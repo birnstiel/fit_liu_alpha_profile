{
 "cells": [
  {
   "cell_type": "markdown",
   "metadata": {},
   "source": [
    "# Fitting the Liu Profile\n",
    "\n",
    "<img src=\"./Liu2018.png\" width=50%></img>"
   ]
  },
  {
   "cell_type": "code",
   "execution_count": null,
   "metadata": {},
   "outputs": [],
   "source": [
    "import matplotlib.pyplot as plt\n",
    "import numpy as np\n",
    "from scipy.optimize import curve_fit\n",
    "%matplotlib inline"
   ]
  },
  {
   "cell_type": "markdown",
   "metadata": {},
   "source": [
    "Read Liu profile"
   ]
  },
  {
   "cell_type": "code",
   "execution_count": null,
   "metadata": {},
   "outputs": [],
   "source": [
    "d = np.loadtxt('liu_alpha_profile.dat')\n",
    "\n",
    "r         = d[:,0]\n",
    "alpha_liu = d[:, 1]\n",
    "\n",
    "plt.semilogy(r,alpha_liu)"
   ]
  },
  {
   "cell_type": "markdown",
   "metadata": {},
   "source": [
    "Fit the function\n",
    "\n",
    "$$\n",
    "\\alpha(r) = \\alpha_i \\, \\left(1 - \\frac{1 - \\alpha_o / \\alpha_i}{2} \\left(1 - \\tanh\\left(\\frac{r - R}{R0}\\right)\\right)\\right)\n",
    "$$"
   ]
  },
  {
   "cell_type": "code",
   "execution_count": null,
   "metadata": {},
   "outputs": [],
   "source": [
    "# initial guess for the parameters\n",
    "\n",
    "alpha_in = 1e-5\n",
    "alpha_out = 7.5e-3\n",
    "R   = 155.\n",
    "R0  = 59.\n",
    "\n",
    "# define alpha(r) profile with 4 parameters\n",
    "\n",
    "def alpha(r, R, R0, alpha_out, alpha_in):\n",
    "    return alpha_in * (1. - (1. - alpha_out / alpha_in) / 2.0 * (1.0 - np.tanh((r - R) / R0)))\n",
    "\n",
    "# fit it giving a first guess\n",
    "\n",
    "res = curve_fit(alpha, r, alpha_liu, p0=(R, R0, alpha_in, alpha_out))\n",
    "\n",
    "# overplot both profiles\n",
    "\n",
    "plt.semilogy(r,alpha_liu)\n",
    "plt.semilogy(r,alpha(r,*res[0]),'--');"
   ]
  },
  {
   "cell_type": "markdown",
   "metadata": {},
   "source": [
    "Print the best fit parameters"
   ]
  },
  {
   "cell_type": "code",
   "execution_count": null,
   "metadata": {},
   "outputs": [],
   "source": [
    "print('R         = {:.3g} AU'.format(res[0][0]))\n",
    "print('R0        = {:.3g} AU'.format(res[0][1]))\n",
    "print('alpha_out = {:.3g}   '.format(res[0][2]))\n",
    "print('alpha_in  = {:.3g}   '.format(res[0][3]))"
   ]
  }
 ],
 "metadata": {
  "kernelspec": {
   "display_name": "Python 3",
   "language": "python",
   "name": "python3"
  },
  "language_info": {
   "codemirror_mode": {
    "name": "ipython",
    "version": 3
   },
   "file_extension": ".py",
   "mimetype": "text/x-python",
   "name": "python",
   "nbconvert_exporter": "python",
   "pygments_lexer": "ipython3",
   "version": "3.6.3"
  }
 },
 "nbformat": 4,
 "nbformat_minor": 2
}
